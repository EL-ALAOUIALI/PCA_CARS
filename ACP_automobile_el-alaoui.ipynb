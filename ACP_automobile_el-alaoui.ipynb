{
 "cells": [
  {
   "cell_type": "markdown",
   "metadata": {},
   "source": [
    "# Lecture des données"
   ]
  },
  {
   "cell_type": "code",
   "execution_count": 1,
   "metadata": {},
   "outputs": [],
   "source": [
    "import os\n",
    "import pandas"
   ]
  },
  {
   "cell_type": "code",
   "execution_count": 7,
   "metadata": {},
   "outputs": [
    {
     "name": "stdout",
     "output_type": "stream",
     "text": [
      "1.0.3\n"
     ]
    }
   ],
   "source": [
    "print(pandas.__version__)"
   ]
  },
  {
   "cell_type": "code",
   "execution_count": 4,
   "metadata": {},
   "outputs": [
    {
     "data": {
      "text/html": [
       "<div>\n",
       "<style scoped>\n",
       "    .dataframe tbody tr th:only-of-type {\n",
       "        vertical-align: middle;\n",
       "    }\n",
       "\n",
       "    .dataframe tbody tr th {\n",
       "        vertical-align: top;\n",
       "    }\n",
       "\n",
       "    .dataframe thead th {\n",
       "        text-align: right;\n",
       "    }\n",
       "</style>\n",
       "<table border=\"1\" class=\"dataframe\">\n",
       "  <thead>\n",
       "    <tr style=\"text-align: right;\">\n",
       "      <th></th>\n",
       "      <th>CYL</th>\n",
       "      <th>PUISS</th>\n",
       "      <th>LONG</th>\n",
       "      <th>LARG</th>\n",
       "      <th>POIDS</th>\n",
       "      <th>V.MAX</th>\n",
       "    </tr>\n",
       "    <tr>\n",
       "      <th>Modele</th>\n",
       "      <th></th>\n",
       "      <th></th>\n",
       "      <th></th>\n",
       "      <th></th>\n",
       "      <th></th>\n",
       "      <th></th>\n",
       "    </tr>\n",
       "  </thead>\n",
       "  <tbody>\n",
       "    <tr>\n",
       "      <th>Alfasud TI</th>\n",
       "      <td>1350</td>\n",
       "      <td>79</td>\n",
       "      <td>393</td>\n",
       "      <td>161</td>\n",
       "      <td>870</td>\n",
       "      <td>165</td>\n",
       "    </tr>\n",
       "    <tr>\n",
       "      <th>Audi 100</th>\n",
       "      <td>1588</td>\n",
       "      <td>85</td>\n",
       "      <td>468</td>\n",
       "      <td>177</td>\n",
       "      <td>1110</td>\n",
       "      <td>160</td>\n",
       "    </tr>\n",
       "    <tr>\n",
       "      <th>Simca 1300</th>\n",
       "      <td>1294</td>\n",
       "      <td>68</td>\n",
       "      <td>424</td>\n",
       "      <td>168</td>\n",
       "      <td>1050</td>\n",
       "      <td>152</td>\n",
       "    </tr>\n",
       "    <tr>\n",
       "      <th>Citroen GS Club</th>\n",
       "      <td>1222</td>\n",
       "      <td>59</td>\n",
       "      <td>412</td>\n",
       "      <td>161</td>\n",
       "      <td>930</td>\n",
       "      <td>151</td>\n",
       "    </tr>\n",
       "    <tr>\n",
       "      <th>Fiat 132</th>\n",
       "      <td>1585</td>\n",
       "      <td>98</td>\n",
       "      <td>439</td>\n",
       "      <td>164</td>\n",
       "      <td>1105</td>\n",
       "      <td>165</td>\n",
       "    </tr>\n",
       "    <tr>\n",
       "      <th>Lancia Beta</th>\n",
       "      <td>1297</td>\n",
       "      <td>82</td>\n",
       "      <td>429</td>\n",
       "      <td>169</td>\n",
       "      <td>1080</td>\n",
       "      <td>160</td>\n",
       "    </tr>\n",
       "    <tr>\n",
       "      <th>Peugeot 504</th>\n",
       "      <td>1796</td>\n",
       "      <td>79</td>\n",
       "      <td>449</td>\n",
       "      <td>169</td>\n",
       "      <td>1160</td>\n",
       "      <td>154</td>\n",
       "    </tr>\n",
       "    <tr>\n",
       "      <th>Renault 16 TL</th>\n",
       "      <td>1565</td>\n",
       "      <td>55</td>\n",
       "      <td>424</td>\n",
       "      <td>163</td>\n",
       "      <td>1010</td>\n",
       "      <td>140</td>\n",
       "    </tr>\n",
       "    <tr>\n",
       "      <th>Renault 30</th>\n",
       "      <td>2664</td>\n",
       "      <td>128</td>\n",
       "      <td>452</td>\n",
       "      <td>173</td>\n",
       "      <td>1320</td>\n",
       "      <td>180</td>\n",
       "    </tr>\n",
       "    <tr>\n",
       "      <th>Toyota Corolla</th>\n",
       "      <td>1166</td>\n",
       "      <td>55</td>\n",
       "      <td>399</td>\n",
       "      <td>157</td>\n",
       "      <td>815</td>\n",
       "      <td>140</td>\n",
       "    </tr>\n",
       "    <tr>\n",
       "      <th>Alfetta 1.66</th>\n",
       "      <td>1570</td>\n",
       "      <td>109</td>\n",
       "      <td>428</td>\n",
       "      <td>162</td>\n",
       "      <td>1060</td>\n",
       "      <td>175</td>\n",
       "    </tr>\n",
       "    <tr>\n",
       "      <th>Princess 1800</th>\n",
       "      <td>1798</td>\n",
       "      <td>82</td>\n",
       "      <td>445</td>\n",
       "      <td>172</td>\n",
       "      <td>1160</td>\n",
       "      <td>158</td>\n",
       "    </tr>\n",
       "    <tr>\n",
       "      <th>Datsun 200L</th>\n",
       "      <td>1998</td>\n",
       "      <td>115</td>\n",
       "      <td>469</td>\n",
       "      <td>169</td>\n",
       "      <td>1370</td>\n",
       "      <td>160</td>\n",
       "    </tr>\n",
       "    <tr>\n",
       "      <th>Taunus 2000</th>\n",
       "      <td>1993</td>\n",
       "      <td>98</td>\n",
       "      <td>438</td>\n",
       "      <td>170</td>\n",
       "      <td>1080</td>\n",
       "      <td>167</td>\n",
       "    </tr>\n",
       "    <tr>\n",
       "      <th>Rancho</th>\n",
       "      <td>1442</td>\n",
       "      <td>80</td>\n",
       "      <td>431</td>\n",
       "      <td>166</td>\n",
       "      <td>1129</td>\n",
       "      <td>144</td>\n",
       "    </tr>\n",
       "    <tr>\n",
       "      <th>Mazda 9295</th>\n",
       "      <td>1769</td>\n",
       "      <td>83</td>\n",
       "      <td>440</td>\n",
       "      <td>165</td>\n",
       "      <td>1095</td>\n",
       "      <td>165</td>\n",
       "    </tr>\n",
       "    <tr>\n",
       "      <th>Opel Rekord</th>\n",
       "      <td>1979</td>\n",
       "      <td>100</td>\n",
       "      <td>459</td>\n",
       "      <td>173</td>\n",
       "      <td>1120</td>\n",
       "      <td>173</td>\n",
       "    </tr>\n",
       "    <tr>\n",
       "      <th>Lada 1300</th>\n",
       "      <td>1294</td>\n",
       "      <td>68</td>\n",
       "      <td>404</td>\n",
       "      <td>161</td>\n",
       "      <td>955</td>\n",
       "      <td>140</td>\n",
       "    </tr>\n",
       "  </tbody>\n",
       "</table>\n",
       "</div>"
      ],
      "text/plain": [
       "                  CYL  PUISS  LONG  LARG  POIDS  V.MAX\n",
       "Modele                                                \n",
       "Alfasud TI       1350     79   393   161    870    165\n",
       "Audi 100         1588     85   468   177   1110    160\n",
       "Simca 1300       1294     68   424   168   1050    152\n",
       "Citroen GS Club  1222     59   412   161    930    151\n",
       "Fiat 132         1585     98   439   164   1105    165\n",
       "Lancia Beta      1297     82   429   169   1080    160\n",
       "Peugeot 504      1796     79   449   169   1160    154\n",
       "Renault 16 TL    1565     55   424   163   1010    140\n",
       "Renault 30       2664    128   452   173   1320    180\n",
       "Toyota Corolla   1166     55   399   157    815    140\n",
       "Alfetta 1.66     1570    109   428   162   1060    175\n",
       "Princess 1800    1798     82   445   172   1160    158\n",
       "Datsun 200L      1998    115   469   169   1370    160\n",
       "Taunus 2000      1993     98   438   170   1080    167\n",
       "Rancho           1442     80   431   166   1129    144\n",
       "Mazda 9295       1769     83   440   165   1095    165\n",
       "Opel Rekord      1979    100   459   173   1120    173\n",
       "Lada 1300        1294     68   404   161    955    140"
      ]
     },
     "execution_count": 4,
     "metadata": {},
     "output_type": "execute_result"
    }
   ],
   "source": [
    "X = pandas.read_excel(\"data.xlsx\",sheet_name=0,header=0,index_col=0)\n",
    "X"
   ]
  },
  {
   "cell_type": "code",
   "execution_count": 5,
   "metadata": {},
   "outputs": [
    {
     "name": "stdout",
     "output_type": "stream",
     "text": [
      "(18, 6)\n"
     ]
    }
   ],
   "source": [
    "print(X.shape) \n",
    "n = X.shape[0]\n",
    "p = X.shape[1]\n"
   ]
  },
  {
   "cell_type": "code",
   "execution_count": 13,
   "metadata": {},
   "outputs": [
    {
     "name": "stdout",
     "output_type": "stream",
     "text": [
      "0.21.3\n"
     ]
    }
   ],
   "source": [
    "import sklearn\n",
    "print(sklearn.__version__) # 0.19.1"
   ]
  },
  {
   "cell_type": "markdown",
   "metadata": {},
   "source": [
    "#  Préparation des données (le Centrage et la  réduction de données)"
   ]
  },
  {
   "cell_type": "code",
   "execution_count": 8,
   "metadata": {},
   "outputs": [
    {
     "name": "stdout",
     "output_type": "stream",
     "text": [
      "avant la prépartion x:\n",
      "                  CYL  PUISS  LONG  LARG  POIDS  V.MAX\n",
      "Modele                                                \n",
      "Alfasud TI       1350     79   393   161    870    165\n",
      "Audi 100         1588     85   468   177   1110    160\n",
      "Simca 1300       1294     68   424   168   1050    152\n",
      "Citroen GS Club  1222     59   412   161    930    151\n",
      "Fiat 132         1585     98   439   164   1105    165\n",
      "Lancia Beta      1297     82   429   169   1080    160\n",
      "Peugeot 504      1796     79   449   169   1160    154\n",
      "Renault 16 TL    1565     55   424   163   1010    140\n",
      "Renault 30       2664    128   452   173   1320    180\n",
      "Toyota Corolla   1166     55   399   157    815    140\n",
      "Alfetta 1.66     1570    109   428   162   1060    175\n",
      "Princess 1800    1798     82   445   172   1160    158\n",
      "Datsun 200L      1998    115   469   169   1370    160\n",
      "Taunus 2000      1993     98   438   170   1080    167\n",
      "Rancho           1442     80   431   166   1129    144\n",
      "Mazda 9295       1769     83   440   165   1095    165\n",
      "Opel Rekord      1979    100   459   173   1120    173\n",
      "Lada 1300        1294     68   404   161    955    140\n",
      "aprés la prépartion z:\n",
      "[[-0.77509889 -0.28335818 -1.88508077 -1.09734528 -1.56900676  0.56976043]\n",
      " [-0.12016326  0.01963869  1.60580955  2.0010414   0.23416142  0.14597168]\n",
      " [-0.92920139 -0.83885242 -0.44217944  0.25819889 -0.21663062 -0.53209032]\n",
      " [-1.12733318 -1.29334771 -1.00072189 -1.09734528 -1.11821472 -0.61684807]\n",
      " [-0.12841875  0.67613189  0.25599862 -0.51639778  0.19659542  0.56976043]\n",
      " [-0.9209459  -0.13185975 -0.20945342  0.45184806  0.0087654   0.14597168]\n",
      " [ 0.45221746 -0.28335818  0.72145067  0.45184806  0.60982146 -0.36257482]\n",
      " [-0.18345536 -1.49534562 -0.44217944 -0.71004695 -0.51715865 -1.54918332]\n",
      " [ 2.84080623  2.19111619  0.86108628  1.22644473  1.81193359  1.84112668]\n",
      " [-1.28143568 -1.49534562 -1.60580955 -1.87194195 -1.98223281 -1.54918332]\n",
      " [-0.16969621  1.23162613 -0.25599862 -0.90369611 -0.14149861  1.41733793]\n",
      " [ 0.45772112 -0.13185975  0.53526985  1.03279556  0.60982146 -0.02354382]\n",
      " [ 1.0080872   1.53462299  1.65235475  0.45184806  2.18759363  0.14597168]\n",
      " [ 0.99432805  0.67613189  0.20945342  0.64549722  0.0087654   0.73927593]\n",
      " [-0.5219305  -0.2328587  -0.11636301 -0.12909944  0.37691224 -1.21015232]\n",
      " [ 0.37791804 -0.08136027  0.30254383 -0.32274861  0.12146341  0.56976043]\n",
      " [ 0.95580242  0.77713084  1.18690271  1.22644473  0.30929343  1.24782243]\n",
      " [-0.92920139 -0.83885242 -1.37308353 -1.09734528 -0.9303847  -1.54918332]]\n"
     ]
    }
   ],
   "source": [
    "# z ij =x ij − x̅ j/σ j\n",
    "from sklearn.preprocessing import StandardScaler\n",
    "#instanciation\n",
    "sc = StandardScaler()\n",
    "#transformation – centrage-réduction\n",
    "Z = sc.fit_transform(X)\n",
    "print(\"avant la prépartion x:\")\n",
    "print(X)\n",
    "print(\"aprés la prépartion z:\")\n",
    "print(Z)"
   ]
  },
  {
   "cell_type": "markdown",
   "metadata": {},
   "source": [
    "### Vérifions, par acquit de conscience, les propriétés du nouvel ensemble de données. Les moyennes sont maintenant nulles (aux erreurs de troncature près) :"
   ]
  },
  {
   "cell_type": "code",
   "execution_count": 16,
   "metadata": {},
   "outputs": [
    {
     "name": "stdout",
     "output_type": "stream",
     "text": [
      "[-2.22044605e-16 -1.41861831e-16  0.00000000e+00  1.86270752e-15\n",
      "  5.73615229e-16  5.55111512e-16]\n",
      "[1. 1. 1. 1. 1. 1.]\n"
     ]
    }
   ],
   "source": [
    "import numpy\n",
    "#moyenne\n",
    "print(numpy.mean(Z,axis=0))\n",
    "print(numpy.std(Z,axis=0,ddof=0))"
   ]
  },
  {
   "cell_type": "markdown",
   "metadata": {},
   "source": [
    "# Analyse en composantes principales avec PCA de ‘’scikit-learn’’\n",
    "## Instanciation et lancement des calculs"
   ]
  },
  {
   "cell_type": "code",
   "execution_count": 10,
   "metadata": {},
   "outputs": [
    {
     "name": "stdout",
     "output_type": "stream",
     "text": [
      "PCA(copy=True, iterated_power='auto', n_components=None, random_state=None,\n",
      "    svd_solver='full', tol=0.0, whiten=False)\n"
     ]
    }
   ],
   "source": [
    "from sklearn.decomposition import PCA\n",
    "#instanciation\n",
    "acp = PCA(svd_solver='full')\n",
    "print(acp)"
   ]
  },
  {
   "cell_type": "markdown",
   "metadata": {},
   "source": [
    "### Le paramètre (svd_solver = ‘full’) indique l’algorithme utilisé pour la décomposition en valeurs singulières. Nous choisissons la méthode ‘’exacte’’, sélectionnée de toute manière pardéfaut pour l’appréhension des bases de taille réduite. D’autres approches sont disponibles pour le traitement des grands ensembles de données. Le nombre de composantes (K) n’étant pas spécifié (n_components = None), il est par défaut égal au nombre de variables (K = p).Nous pouvons lancer les traitements dans un second temps. La fonction fit_transform() renvoie en sortie les coordonnées factorielles F ik que nous collectons dans la variable coor. Nous affichons le nombre de composantes générées (K), il est bien égal à p = 6.\n"
   ]
  },
  {
   "cell_type": "code",
   "execution_count": 12,
   "metadata": {},
   "outputs": [
    {
     "name": "stdout",
     "output_type": "stream",
     "text": [
      "6\n"
     ]
    },
    {
     "data": {
      "text/plain": [
       "array([[-2.13892361,  1.78568102,  0.57186228,  0.20192734, -0.30135696,\n",
       "         0.05392079],\n",
       "       [ 1.56145859, -1.52704027,  1.31527135, -0.21135154,  0.14851614,\n",
       "        -0.32723844],\n",
       "       [-1.11938528, -0.67450517,  0.4565881 , -0.16762584, -0.37536398,\n",
       "         0.27180323],\n",
       "       [-2.5737417 ,  0.11288416,  0.1485698 , -0.01734322,  0.22685322,\n",
       "         0.26347623],\n",
       "       [ 0.4278552 ,  0.69556731, -0.19328567, -0.62775448,  0.26350531,\n",
       "        -0.03715265],\n",
       "       [-0.30423764, -0.19614878,  0.67580317, -0.55594137, -0.44508594,\n",
       "         0.20008299],\n",
       "       [ 0.6839285 , -0.93305677, -0.25682308,  0.20313429,  0.20865165,\n",
       "         0.15389175],\n",
       "       [-1.94849257, -0.98044805, -0.61957488,  0.63031916,  0.29316513,\n",
       "         0.10864179],\n",
       "       [ 4.40973457,  1.06363317, -0.59352842,  0.84724778, -0.37488967,\n",
       "         0.04399657],\n",
       "       [-3.98578242,  0.23624042, -0.30313336,  0.2651218 ,  0.27842846,\n",
       "        -0.32889199],\n",
       "       [ 0.43765819,  1.91244816,  0.02494224, -0.75891042,  0.16810267,\n",
       "        -0.05424075],\n",
       "       [ 1.01817538, -0.8417121 ,  0.21661021,  0.30342642, -0.18487578,\n",
       "         0.18489356],\n",
       "       [ 2.94108031, -0.55917459, -1.24398816, -0.77217107,  0.05441213,\n",
       "        -0.05726266],\n",
       "       [ 1.31488038,  0.48652246,  0.2826214 ,  0.58222623, -0.06673467,\n",
       "        -0.25309176],\n",
       "       [-0.69111137, -0.89772139, -0.62840689, -0.35773669, -0.37708593,\n",
       "        -0.12153156],\n",
       "       [ 0.38570887,  0.35618457, -0.07558299,  0.10289945,  0.52704301,\n",
       "         0.33883195],\n",
       "       [ 2.28976824,  0.10434464,  0.79638378,  0.23634748,  0.33846113,\n",
       "        -0.15668108],\n",
       "       [-2.70857363, -0.1436988 , -0.57432888,  0.09618467, -0.38174588,\n",
       "        -0.28344798]])"
      ]
     },
     "execution_count": 12,
     "metadata": {},
     "output_type": "execute_result"
    }
   ],
   "source": [
    "coord = acp.fit_transform(Z)\n",
    "#nombre de composantes calculées\n",
    "print(acp.n_components_)\n",
    "coord"
   ]
  },
  {
   "cell_type": "code",
   "execution_count": 13,
   "metadata": {},
   "outputs": [
    {
     "name": "stdout",
     "output_type": "stream",
     "text": [
      "[4.68090853 0.90641889 0.39501114 0.22650574 0.09826011 0.04583676]\n",
      "[4.42085806 0.85606229 0.37306608 0.21392209 0.09280121 0.04329027]\n",
      "[4.42085806 0.85606229 0.37306608 0.21392209 0.09280121 0.04329027]\n",
      "[0.73680968 0.14267705 0.06217768 0.03565368 0.01546687 0.00721505]\n"
     ]
    }
   ],
   "source": [
    "print(acp.explained_variance_)\n",
    "eigval = (n-1)/n*acp.explained_variance_\n",
    "print(eigval)\n",
    "print(acp.singular_values_**2/n)\n",
    "print(acp.explained_variance_ratio_)"
   ]
  },
  {
   "cell_type": "markdown",
   "metadata": {},
   "source": [
    "# Choix des axes"
   ]
  },
  {
   "cell_type": "code",
   "execution_count": 20,
   "metadata": {},
   "outputs": [
    {
     "name": "stdout",
     "output_type": "stream",
     "text": [
      "   Val.Propre    Seuils\n",
      "0    4.420858  2.450000\n",
      "1    0.856062  1.450000\n",
      "2    0.373066  0.950000\n",
      "3    0.213922  0.616667\n",
      "4    0.092801  0.366667\n",
      "5    0.043290  0.166667\n"
     ]
    }
   ],
   "source": [
    "bs = 1/numpy.arange(p,0,-1)\n",
    "bs = numpy.cumsum(bs)\n",
    "bs = bs[::-1]\n",
    "print(pandas.DataFrame({'Val.Propre':eigval,'Seuils':bs}))"
   ]
  },
  {
   "cell_type": "markdown",
   "metadata": {},
   "source": [
    "# Positionnement des individus dans le premier plan"
   ]
  },
  {
   "cell_type": "code",
   "execution_count": 15,
   "metadata": {},
   "outputs": [
    {
     "data": {
      "image/png": "[encoded data removed]",
      "text/plain": [
       "<Figure size 864x864 with 1 Axes>"
      ]
     },
     "metadata": {
      "needs_background": "light"
     },
     "output_type": "display_data"
    }
   ],
   "source": [
    "import matplotlib.pyplot as plt\n",
    "fig, axes = plt.subplots(figsize=(12,12))\n",
    "axes.set_xlim(-6,6) #même limites en abscisse\n",
    "axes.set_ylim(-6,6) #et en ordonnée\n",
    "#placement des étiquettes des observations\n",
    "for i in range(n):\n",
    " plt.annotate(X.index[i],(coord[i,0],coord[i,1]))\n",
    "#ajouter les axes\n",
    "plt.plot([-6,6],[0,0],color='silver',linestyle='-',linewidth=1)\n",
    "plt.plot([0,0],[-6,6],color='silver',linestyle='-',linewidth=1)\n",
    "#affichage\n",
    "plt.show()"
   ]
  },
  {
   "cell_type": "markdown",
   "metadata": {},
   "source": [
    "# Qualié de représentation des individus - COS2"
   ]
  },
  {
   "cell_type": "code",
   "execution_count": 23,
   "metadata": {},
   "outputs": [
    {
     "name": "stdout",
     "output_type": "stream",
     "text": [
      "                 ID        d_i\n",
      "0       Alf asud TI   8.225176\n",
      "1          Audi 100   6.673755\n",
      "2        Simca 1300   2.159327\n",
      "3   Citroen GS Club   6.780145\n",
      "4          Fiat 132   1.169124\n",
      "5       Lancia Beta   1.134950\n",
      "6       Peugeot 504   1.512793\n",
      "7     Renault 16 TL   5.636826\n",
      "8        Renault 30  21.789657\n",
      "9     Toyota Corola  16.290143\n",
      "10     Alfetta-1.66   4.456770\n",
      "11     Pincess-1800   1.952513\n",
      "12      Datsun-200L  11.112624\n",
      "13      Taunus-2000   2.452986\n",
      "14           Rancho   1.963373\n",
      "15       Mazda-9295   0.684521\n",
      "16      Opel-Pekord   6.083119\n",
      "17        Lada-1300   7.922198\n",
      "                 id    COS2_1    COS2_2\n",
      "0       Alf asud TI  0.556218  0.387670\n",
      "1          Audi 100  0.365334  0.349406\n",
      "2        Simca 1300  0.580284  0.210694\n",
      "3   Citroen GS Club  0.976992  0.001879\n",
      "4          Fiat 132  0.156579  0.413826\n",
      "5       Lancia Beta  0.081555  0.033900\n",
      "6       Peugeot 504  0.309202  0.575488\n",
      "7     Renault 16 TL  0.673539  0.170535\n",
      "8        Renault 30  0.892431  0.051920\n",
      "9     Toyota Corola  0.975219  0.003426\n",
      "10     Alfetta-1.66  0.042978  0.820652\n",
      "11     Pincess-1800  0.530947  0.362855\n",
      "12      Datsun-200L  0.778390  0.028137\n",
      "13      Taunus-2000  0.704819  0.096496\n",
      "14           Rancho  0.243273  0.410469\n",
      "15       Mazda-9295  0.217336  0.185337\n",
      "16      Opel-Pekord  0.861900  0.001790\n",
      "17        Lada-1300  0.926052  0.002607\n"
     ]
    }
   ],
   "source": [
    "di = numpy.sum(Z**2,axis=1)\n",
    "print(pandas.DataFrame({'ID':X.index,'d_i':di}))\n",
    "cos2 = coord**2\n",
    "for j in range(p):\n",
    " cos2[:,j] = cos2[:,j]/di\n",
    "print(pandas.DataFrame({'id':X.index,'COS2_1':cos2[:,0],'COS2_2':cos2[:,1]}))"
   ]
  },
  {
   "cell_type": "code",
   "execution_count": 24,
   "metadata": {},
   "outputs": [
    {
     "name": "stdout",
     "output_type": "stream",
     "text": [
      "[1. 1. 1. 1. 1. 1. 1. 1. 1. 1. 1. 1. 1. 1. 1. 1. 1. 1.]\n"
     ]
    }
   ],
   "source": [
    "print(numpy.sum(cos2,axis=1))\n"
   ]
  },
  {
   "cell_type": "markdown",
   "metadata": {},
   "source": [
    "# Contribution aux axes"
   ]
  },
  {
   "cell_type": "code",
   "execution_count": 25,
   "metadata": {},
   "outputs": [
    {
     "name": "stdout",
     "output_type": "stream",
     "text": [
      "                 id     CTR_1     CTR_2\n",
      "0       Alf asud TI  0.057493  0.206933\n",
      "1          Audi 100  0.030640  0.151329\n",
      "2        Simca 1300  0.015746  0.029525\n",
      "3   Citroen GS Club  0.083244  0.000827\n",
      "4          Fiat 132  0.002300  0.031398\n",
      "5       Lancia Beta  0.001163  0.002497\n",
      "6       Peugeot 504  0.005878  0.056499\n",
      "7     Renault 16 TL  0.047711  0.062384\n",
      "8        Renault 30  0.244369  0.073419\n",
      "9     Toyota Corola  0.199640  0.003622\n",
      "10     Alfetta-1.66  0.002407  0.237357\n",
      "11     Pincess-1800  0.013028  0.045978\n",
      "12      Datsun-200L  0.108701  0.020292\n",
      "13      Taunus-2000  0.021727  0.015361\n",
      "14           Rancho  0.006002  0.052300\n",
      "15       Mazda-9295  0.001870  0.008233\n",
      "16      Opel-Pekord  0.065888  0.000707\n",
      "17        Lada-1300  0.092194  0.001340\n"
     ]
    }
   ],
   "source": [
    "ctr = coord**2\n",
    "for j in range(p):\n",
    " ctr[:,j] = ctr[:,j]/(n*eigval[j])\n",
    "\n",
    "print(pandas.DataFrame({'id':X.index,'CTR_1':ctr[:,0],'CTR_2':ctr[:,1]}))"
   ]
  },
  {
   "cell_type": "code",
   "execution_count": 27,
   "metadata": {},
   "outputs": [
    {
     "name": "stdout",
     "output_type": "stream",
     "text": [
      "[[ 0.42493602  0.42179441  0.42145993  0.38692224  0.43051198  0.35894427]\n",
      " [ 0.12419108  0.41577389 -0.41181773 -0.446087   -0.24267581  0.6198626 ]\n",
      " [-0.35361252 -0.18492049  0.06763394  0.60486812 -0.48439601  0.48547226]\n",
      " [ 0.80778648 -0.35779199 -0.27975231  0.21156941 -0.30171136 -0.0735743 ]\n",
      " [ 0.15158003 -0.29373465  0.73056903 -0.47819008 -0.30455842  0.18865511]\n",
      " [-0.05889517 -0.63303302 -0.19029153 -0.10956624  0.5808122   0.45852167]]\n"
     ]
    }
   ],
   "source": [
    "print(acp.components_)"
   ]
  },
  {
   "cell_type": "markdown",
   "metadata": {},
   "source": [
    "# Corrélation des variables avec les axes"
   ]
  },
  {
   "cell_type": "code",
   "execution_count": 28,
   "metadata": {},
   "outputs": [
    {
     "name": "stdout",
     "output_type": "stream",
     "text": [
      "[[ 0.89346354  0.1149061  -0.21598347  0.37361508  0.04617627 -0.01225391]\n",
      " [ 0.88685803  0.38468911 -0.11294784 -0.16548492 -0.08948124 -0.13171084]\n",
      " [ 0.88615477 -0.38102873  0.04131023 -0.12939024  0.22255537 -0.03959265]\n",
      " [ 0.81353638 -0.4127359   0.36944822  0.09785447 -0.14567244 -0.0227967 ]\n",
      " [ 0.90518746 -0.22453248 -0.29586489 -0.13954667 -0.09277852  0.12084561]\n",
      " [ 0.75471037  0.57351941  0.29652226 -0.03402937  0.05747056  0.09540146]]\n"
     ]
    }
   ],
   "source": [
    "sqrt_eigval = numpy.sqrt(eigval)\n",
    "corvar = numpy.zeros((p,p))\n",
    "for k in range(p):\n",
    " corvar[:,k] = acp.components_[k,:] * sqrt_eigval[k]\n",
    "\n",
    "#afficher la matrice des corrélations variables x facteurs\n",
    "print(corvar)\n"
   ]
  },
  {
   "cell_type": "code",
   "execution_count": 29,
   "metadata": {},
   "outputs": [
    {
     "name": "stdout",
     "output_type": "stream",
     "text": [
      "      id     COR_1     COR_2\n",
      "0    CYL  0.893464  0.114906\n",
      "1  PUISS  0.886858  0.384689\n",
      "2   LONG  0.886155 -0.381029\n",
      "3   LARG  0.813536 -0.412736\n",
      "4  POIDS  0.905187 -0.224532\n",
      "5  V_MAX  0.754710  0.573519\n"
     ]
    }
   ],
   "source": [
    "print(pandas.DataFrame({'id':X.columns,'COR_1':corvar[:,0],'COR_2':corvar[:,1]}))"
   ]
  },
  {
   "cell_type": "code",
   "execution_count": 33,
   "metadata": {},
   "outputs": [
    {
     "data": {
      "image/png": "[encoded data removed]",
      "text/plain": [
       "<Figure size 576x576 with 1 Axes>"
      ]
     },
     "metadata": {
      "needs_background": "light"
     },
     "output_type": "display_data"
    }
   ],
   "source": [
    "#cercle des corrélations\n",
    "fig, axes = plt.subplots(figsize=(8,8))\n",
    "axes.set_xlim(-1,1)\n",
    "axes.set_ylim(-1,1)\n",
    "#affichage des étiquettes (noms des variables)\n",
    "for j in range(p):\n",
    " plt.annotate(X.columns[j],(corvar[j,0],corvar[j,1]))\n",
    "\n",
    "#ajouter les axes\n",
    "plt.plot([-1,1],[0,0],color='silver',linestyle='-',linewidth=1)\n",
    "plt.plot([0,0],[-1,1],color='silver',linestyle='-',linewidth=1)\n",
    "#ajouter un cercle\n",
    "cercle = plt.Circle((0,0),1,color='blue',fill=False)\n",
    "axes.add_artist(cercle)\n",
    "#affichage\n",
    "plt.show()"
   ]
  },
  {
   "cell_type": "code",
   "execution_count": 34,
   "metadata": {},
   "outputs": [
    {
     "name": "stdout",
     "output_type": "stream",
     "text": [
      "      id    COS2_1    COS2_2\n",
      "0    CYL  0.798277  0.013203\n",
      "1  PUISS  0.786517  0.147986\n",
      "2   LONG  0.785270  0.145183\n",
      "3   LARG  0.661841  0.170351\n",
      "4  POIDS  0.819364  0.050415\n",
      "5  V_MAX  0.569588  0.328925\n"
     ]
    }
   ],
   "source": [
    "cos2var = corvar**2\n",
    "print(pandas.DataFrame({'id':X.columns,'COS2_1':cos2var[:,0],'COS2_2':cos2var[:,1]}))"
   ]
  },
  {
   "cell_type": "code",
   "execution_count": 35,
   "metadata": {},
   "outputs": [
    {
     "name": "stdout",
     "output_type": "stream",
     "text": [
      "      id     CTR_1     CTR_2\n",
      "0    CYL  0.180571  0.015423\n",
      "1  PUISS  0.177911  0.172868\n",
      "2   LONG  0.177628  0.169594\n",
      "3   LARG  0.149709  0.198994\n",
      "4  POIDS  0.185341  0.058892\n",
      "5  V_MAX  0.128841  0.384230\n"
     ]
    }
   ],
   "source": [
    "ctrvar = cos2var\n",
    "for k in range(p):\n",
    " ctrvar[:,k] = ctrvar[:,k]/eigval[k]\n",
    "#on n'affiche que pour les deux premiers axes\n",
    "print(pandas.DataFrame({'id':X.columns,'CTR_1':ctrvar[:,0],'CTR_2':ctrvar[:,1]}))"
   ]
  },
  {
   "cell_type": "code",
   "execution_count": null,
   "metadata": {},
   "outputs": [],
   "source": []
  }
 ],
 "metadata": {
  "kernelspec": {
   "display_name": "Python 3",
   "language": "python",
   "name": "python3"
  },
  "language_info": {
   "codemirror_mode": {
    "name": "ipython",
    "version": 3
   },
   "file_extension": ".py",
   "mimetype": "text/x-python",
   "name": "python",
   "nbconvert_exporter": "python",
   "pygments_lexer": "ipython3",
   "version": "3.7.3"
  }
 },
 "nbformat": 4,
 "nbformat_minor": 2
}
